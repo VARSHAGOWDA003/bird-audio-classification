{
 "cells": [
  {
   "cell_type": "code",
   "execution_count": null,
   "id": "a00cb1f5",
   "metadata": {},
   "outputs": [],
   "source": [
    "import warnings\n",
    "warnings.filterwarnings(\"ignore\")\n",
    "\n",
    "import librosa\n",
    "\n",
    "import os\n",
    "import numpy as np\n",
    "import pickle\n",
    "from tensorflow.keras.models import load_model"
   ]
  },
  {
   "cell_type": "code",
   "execution_count": null,
   "id": "ee952f8c",
   "metadata": {},
   "outputs": [],
   "source": [
    "class_labels = ['Acrocephalus', 'Bubo', 'Caprimulgus', 'Emberiza', 'Ficedula', 'Glaucidium', 'Hippolais']"
   ]
  },
  {
   "cell_type": "code",
   "execution_count": 3,
   "id": "029e1d43",
   "metadata": {},
   "outputs": [],
   "source": [
    "model = load_model(\"models/ArtificialNeuralNetwork_model.h5\")"
   ]
  },
  {
   "cell_type": "code",
   "execution_count": 4,
   "id": "323fcd98",
   "metadata": {},
   "outputs": [],
   "source": [
    "with open(file=\"models/Scaler.pkl\", mode=\"rb\") as file:\n",
    "    scaler = pickle.load(file=file)"
   ]
  },
  {
   "cell_type": "code",
   "execution_count": 5,
   "id": "585e01c0",
   "metadata": {},
   "outputs": [],
   "source": [
    "def audio_to_signal(path):\n",
    "    y, sr = librosa.load(path, mono=True, duration=30)\n",
    "    chroma_stft = librosa.feature.chroma_stft(y=y, sr=sr)\n",
    "    rmse = librosa.feature.rms(y=y)\n",
    "    spec_cent = librosa.feature.spectral_centroid(y=y, sr=sr)\n",
    "    spec_bw = librosa.feature.spectral_bandwidth(y=y, sr=sr)\n",
    "    rolloff = librosa.feature.spectral_rolloff(y=y, sr=sr)\n",
    "    zcr = librosa.feature.zero_crossing_rate(y)\n",
    "    mfcc = librosa.feature.mfcc(y=y, sr=sr)\n",
    "    to_append = f'{np.mean(chroma_stft)} {np.mean(rmse)} {np.mean(spec_cent)} {np.mean(spec_bw)} {np.mean(rolloff)} {np.mean(zcr)}'    \n",
    "    for e in mfcc:\n",
    "        to_append += f' {np.mean(e)}'\n",
    "        \n",
    "    return to_append.split()"
   ]
  },
  {
   "cell_type": "markdown",
   "id": "3595a5d7",
   "metadata": {},
   "source": [
    "---"
   ]
  },
  {
   "cell_type": "code",
   "execution_count": 7,
   "id": "21172cc5",
   "metadata": {},
   "outputs": [],
   "source": [
    "user_input_path = \"user_input/Ficedula (3).wav\""
   ]
  },
  {
   "cell_type": "code",
   "execution_count": 8,
   "id": "c0143f1f",
   "metadata": {},
   "outputs": [],
   "source": [
    "input_data = audio_to_signal(user_input_path)\n",
    "input_data = [float(x) for x in input_data]"
   ]
  },
  {
   "cell_type": "code",
   "execution_count": 9,
   "id": "ad309dec",
   "metadata": {},
   "outputs": [
    {
     "name": "stdout",
     "output_type": "stream",
     "text": [
      "[0.6602177619934082, 0.025315677747130394, 1971.3288345965448, 2201.3272493486575, 3921.5429536329334, 0.0795871982633514, -445.1826171875, 68.50846862792969, 16.667224884033203, 45.806678771972656, -4.597455978393555, 22.789072036743164, 11.248339653015137, 12.05607795715332, 4.648726940155029, 12.900672912597656, 7.74078369140625, 5.227572917938232, 6.800922393798828, 9.159720420837402, 4.310463905334473, 10.25788688659668, 3.055110454559326, 6.891692161560059, 2.9915318489074707, 8.031048774719238]\n"
     ]
    }
   ],
   "source": [
    "print(input_data)"
   ]
  },
  {
   "cell_type": "code",
   "execution_count": 10,
   "id": "6b3789d4",
   "metadata": {},
   "outputs": [],
   "source": [
    "input_data = np.array([input_data])\n",
    "scaled_data = scaler.transform(input_data)"
   ]
  },
  {
   "cell_type": "code",
   "execution_count": 11,
   "id": "8be0e557",
   "metadata": {},
   "outputs": [
    {
     "name": "stdout",
     "output_type": "stream",
     "text": [
      "[[ 1.5055534   0.27288854 -0.89385409  0.15569968 -0.58184264 -1.04693854\n",
      "  -0.26696205  0.38253569  0.90039399  0.87717425  0.05243413  0.68425994\n",
      "   1.00276925  1.02921235  0.63392876  1.41479445  1.06916421  0.16423825\n",
      "   0.86870474  0.70338759  0.55783079  1.19257615  0.49616955  0.96301358\n",
      "   0.81465397  1.21773832]]\n"
     ]
    }
   ],
   "source": [
    "print(scaled_data)"
   ]
  },
  {
   "cell_type": "code",
   "execution_count": 12,
   "id": "45c002fc",
   "metadata": {},
   "outputs": [
    {
     "name": "stdout",
     "output_type": "stream",
     "text": [
      "1/1 [==============================] - 0s 281ms/step\n",
      "4\n",
      "Ficedula\n",
      "0.63588977\n"
     ]
    }
   ],
   "source": [
    "prediction = model.predict(scaled_data, verbose=1)\n",
    "\n",
    "class_label = np.argmax(prediction)\n",
    "class_name = class_labels[class_label]\n",
    "probability = prediction[0][class_label]\n",
    "\n",
    "print(class_label)\n",
    "print(class_name)\n",
    "print(probability)"
   ]
  },
  {
   "cell_type": "code",
   "execution_count": null,
   "id": "872d017a",
   "metadata": {},
   "outputs": [],
   "source": []
  },
  {
   "cell_type": "code",
   "execution_count": null,
   "id": "6bf53d60-4a16-4717-b523-e7efc6dd97d6",
   "metadata": {},
   "outputs": [],
   "source": []
  }
 ],
 "metadata": {
  "kernelspec": {
   "display_name": "Python 3 (ipykernel)",
   "language": "python",
   "name": "python3"
  },
  "language_info": {
   "codemirror_mode": {
    "name": "ipython",
    "version": 3
   },
   "file_extension": ".py",
   "mimetype": "text/x-python",
   "name": "python",
   "nbconvert_exporter": "python",
   "pygments_lexer": "ipython3",
   "version": "3.9.7"
  }
 },
 "nbformat": 4,
 "nbformat_minor": 5
}
